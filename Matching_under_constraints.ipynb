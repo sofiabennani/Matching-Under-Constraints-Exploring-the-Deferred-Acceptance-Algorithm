{
  "cells": [
    {
      "cell_type": "markdown",
      "id": "0a80a04e",
      "metadata": {
        "id": "0a80a04e"
      },
      "source": [
        "# Matching under constraints\n",
        "Sofia Bennani & Victoire Temam-basse\n",
        "\n"
      ]
    },
    {
      "cell_type": "markdown",
      "id": "_TS1yJIvV2iN",
      "metadata": {
        "id": "_TS1yJIvV2iN"
      },
      "source": [
        "## 1. Introduction"
      ]
    },
    {
      "cell_type": "markdown",
      "id": "D8sn-3P8WTgX",
      "metadata": {
        "id": "D8sn-3P8WTgX"
      },
      "source": [
        "#### Context\n",
        "Many-to-one matching problems arise in various real-world scenarios, such as student-school admissions, daycare allocations, and job placements. That means that each student can be matched to at most one school but each school may admit multiple students.\n",
        "In this project, we explore the  Deferred Acceptance Algorithm (DAA) and its potential modifications under specific constraints, such as capacity limits, demographic quotas, and budget constraints. We also examine other approaches such as fair rankings and fixed-point algorithms. The goal is to assess the complexity, fairness, and feasibility of these solutions."
      ]
    },
    {
      "cell_type": "markdown",
      "id": "4oqn0KysWYV-",
      "metadata": {
        "id": "4oqn0KysWYV-"
      },
      "source": [
        "#### Overview of the Problem\n",
        "\n",
        "Let $I$ denote a set of students and $S$ a set of schools. Each student $i ∈ I$ has a strict preference order  over the schools, including the option of remaining unmatched. Similarly, each school $s ∈ S$ has a ranking  over the students.\n",
        "\n",
        "A matching function  assigns each student to at most one school while satisfying institutional constraints.\n",
        "\n",
        "The main constraints considered include:\n",
        "\n",
        "- Capacity constraints: Each school s can accept up to $q_s$ students.\n",
        "\n",
        "- Maximum quota constraints: Schools have upper limits on the number of students from specific demographic groups.\n",
        "\n",
        "- Fairness constraints: Matchings should minimize justified envy and satisfy policies like the $4/5$ rule (ensuring demographic balance).\n",
        "\n",
        "- Budget constraints: Schools must operate within financial limits based on student costs."
      ]
    },
    {
      "cell_type": "markdown",
      "id": "pNCjt1qsWADx",
      "metadata": {
        "id": "pNCjt1qsWADx"
      },
      "source": [
        "\n",
        "## 2. The deferred acceptance algorithm and its variants\n",
        "\n"
      ]
    },
    {
      "cell_type": "markdown",
      "id": "jryCoiiFWLho",
      "metadata": {
        "id": "jryCoiiFWLho"
      },
      "source": [
        "The students-to-schools problem is a many-to-one matching problem; that is, each student can be matched to at most one school but each school may admit multiple students. Formally, a matching μ is a mapping that satisfies:\n",
        "$\n",
        "(i) μ_i ∈SU∅ for all i∈I; \n",
        "(ii) μ_s ⊆ I for all s ∈ S; and\n",
        "(iii) μ_i =s if and only if μ_s∋i for any i ∈ I and s∈S.\n",
        "$\n",
        "In words, a matching simply specifies which student is assigned to which school (if any).\n",
        "There are a number of potentially desirable characteristics of a matching. \n",
        "- First, a matching μ is said to be feasible if $μ_s ∈ F_s$ for all s ∈ S. \n",
        "- Second, a matching μ is individually rational if $μ_i ≻_i ∅$ for all i ∈ I such that $μ_i \\ne ∅$. \n",
        "- Third, we say that i has a justified envy towards i′ if there exists s such that $s ≻_i μ_i, i′ ∈ μ_s, and i ≻_s i′$. A matching μ is fair if there exist no students i and i′ such that i has a justified envy toward i′ (regardless of feasibility of the swap). \n",
        "- Fourth, a matching μ is non-wasteful if there is no pair (i,s) ∈ I ×S such that s ≻i μi and μs ∪{i} is feasible at s. \n",
        "\n",
        "Finally, a matching μ is said to be stable if it is feasible, individual rational, fair,\n",
        "and non-wasteful.\n",
        "\n",
        "Each student i ∈ I is endowed with two characteristics: a group gi ∈ G that belongs to a\n",
        "finite set G of possible groups, and a cost $w_i ∈ R+$. Intuitively, the student’s group represents its demographic attributes such as gender, ethnicity, or disability; based on which discrimination is often forbidden (this will later appear as a constraint). The student’s cost represents the cost for the school having this student. Different students might bring different costs; for instance disable students yield higher costs due to the need for special accommodations, international students yield higher costs due to the need to offer them courses of the local language, etc.\n",
        "\n",
        "\n",
        "### 2.1 Capacity constraints\n",
        "\n",
        "#### a. First, we are going to show that, in this case, the above notion of stability coincides with the standard notion from Gale and Shapley\n",
        "\n",
        "We first consider the simplest case, where the only constraint is a capacity constraint. Each school s has a given capacity $q_s ∈ N$ and can only admit up to $q_s$ students.\n",
        "\n",
        "In the simplest case where the only constraint is a capacity constraint, the notion of stability coincides with the standard notion from Gale and Shapley, indeed :\n",
        "\n",
        "In this situation, each school s has a given capacity $q_s \\in \\mathbb{N}$ and can only admit up to $q_s$ students.\n",
        "Generally, stability means :\n",
        "- feasibility : each school cannot exceed its capacity limit\n",
        "- individual rationality : Every assigned student prefers their matched school over remaining unmatched\n",
        "- fairness : No student has justified envy towards another student\n",
        "- non-wasting : If a student prefers an unmatched school that has capacity, they should be admitted.\n",
        "\n",
        "\n",
        "The standard notion of stability from Gale Shapeley means that $ \\nexists (i, s), (i′,s′) ∈ M , ((i′ >_s i) and (s >_{i′} s′)) $. This means that there should be no pair such as :\n",
        "- student i prefers school s' to his school s\n",
        "- and school s' would rather have student i (that is not in school s') than student i' (that is in school s')\n",
        "\n",
        "This condition is satisfied since :\n",
        "- The deferred acceptance algorithm ensures that each school admits only the most preferred students up to its capacity.\n",
        "- Any student not assigned to their top-choice school must have been rejected due to a more preferred student taking their place.\n",
        "- There is no possibility of forming a blocking pair since any student who would prefer another school over their assigned one has already been rejected by that school.\n",
        "\n",
        "Thus, in this capacity-constrained case, the notion of stability exactly matches the classical stability definition in the Gale-Shapley framework.\n",
        "\n",
        "#### b. Then we are going to devise and implement a variant of the deferred acceptance algorithm for the school admission problem with capacity constraints (i.e., the many-to-one matching problem) :\n"
      ]
    },
    {
      "cell_type": "code",
      "execution_count": 41,
      "id": "bd428487",
      "metadata": {
        "id": "bd428487"
      },
      "outputs": [],
      "source": [
        "from collections import deque\n",
        "\n",
        "def max_index(current_students,school_pref):\n",
        "    \"\"\"\n",
        "    returns the student (in current_students) of highest index in school_pref\n",
        "    which means the student matched with the school but is the least wanted by it\n",
        "    compared to the other students also matched with the school\n",
        "\n",
        "    \"\"\"\n",
        "\n",
        "    index = -1\n",
        "\n",
        "    for s in current_students:\n",
        "        i=0\n",
        "\n",
        "        while i<len(school_pref) and school_pref[i]!=s:\n",
        "            i+=1\n",
        "\n",
        "        if i>index :\n",
        "            index = i\n",
        "\n",
        "    return school_pref[index]\n",
        "\n",
        "\n",
        "\n",
        "def deferred_acceptance(schools_pref,students_pref,cap):\n",
        "\n",
        "    \"\"\"\n",
        "    Deferred acceptance algotithm for the school admission problem with capacity constraints\n",
        "\n",
        "    --> schools_pref : dictionnary containing schools' preferrences :\n",
        "                        keys are schools' IDs and values are lists of students' IDs in order of preference.\n",
        "\n",
        "    --> students_pref : dictionnary containing students' preferrences :\n",
        "                        keys are students' IDs and values are lists of schools' IDs in order of preference.\n",
        "\n",
        "    --> cap : dictionnary containing the capacities of the schools\n",
        "                keys are schools' IDs and values are an integer (their capacity)\n",
        "\n",
        "    \"\"\"\n",
        "\n",
        "    # Initialization of the matching (empty)\n",
        "    match = {s:[] for s in schools_pref.keys() }\n",
        "\n",
        "    # Initialization of a queue of students not yet matched\n",
        "    stu = deque(students_pref.keys())\n",
        "\n",
        "    # To keep track of how many schools already rejected each student (first choices)\n",
        "    rej = {i: 0 for i in students_pref.keys()}\n",
        "\n",
        "    while stu : # converts the deque to a boolean which is true if the deque is not empty\n",
        "\n",
        "        current_stu = stu.popleft()\n",
        "\n",
        "        #if the student hasn't already been rejected by all the schools (s)he wants we keep going\n",
        "        if rej[current_stu]<len(students_pref[current_stu]):\n",
        "\n",
        "            school = students_pref[current_stu][rej[current_stu]] #current school we are looking at for the current student\n",
        "            rej[current_stu]+=1\n",
        "\n",
        "            #If the school is not yet at full capacity then put the current student in this school\n",
        "            if len(match[school])<cap[school] :\n",
        "                match[school].append(current_stu)\n",
        "\n",
        "            else :\n",
        "\n",
        "                #Checking if the school prefers the current student over someone already matched with the school\n",
        "                current_students = match[school]\n",
        "                worst = max_index(current_students,schools_pref[school])\n",
        "\n",
        "                current_student_index = schools_pref[school].index(current_stu)\n",
        "\n",
        "                if current_student_index < schools_pref[school].index(worst) :\n",
        "                    # Case where the school prefers the current student over someone already matched with the school\n",
        "\n",
        "                    # We then replace the \"worst\" student by the current one\n",
        "\n",
        "                    match[school].remove(worst)\n",
        "                    match[school].append(current_stu)\n",
        "\n",
        "                    # And put the \"worst\" student back in the deque since (s)he is free again\n",
        "\n",
        "                    stu.append(worst)\n",
        "\n",
        "                else :\n",
        "                    #Case where the current student cannot enter the school\n",
        "                    #We put him/her back in the deque\n",
        "\n",
        "                    stu.append(current_stu)\n",
        "\n",
        "    return match\n"
      ]
    },
    {
      "cell_type": "markdown",
      "id": "e43c0bd6",
      "metadata": {
        "id": "e43c0bd6"
      },
      "source": [
        "### 2.2 Maximum quotas\n",
        "\n",
        "#### a. We are going to propose and implement a modification of the algorithm implemented previously that outputs a matching respecting the maximum quota constraints (quotas per group additionally to the maximum capacity) :"
      ]
    },
    {
      "cell_type": "code",
      "execution_count": 42,
      "id": "92da5a0f",
      "metadata": {
        "id": "92da5a0f"
      },
      "outputs": [],
      "source": [
        "def deferred_acceptance_quotas(schools_pref,students_pref,cap,quotas):\n",
        "\n",
        "    \"\"\"\n",
        "    Deferred acceptance algotithm for the school admission problem with capacity and quotas constraints\n",
        "\n",
        "    --> schools_pref : dictionnary containing schools' preferrences :\n",
        "                        keys are schools' IDs and values are lists of students' IDs in order of preference.\n",
        "\n",
        "    --> students_pref : dictionnary containing students' preferrences and their group:\n",
        "                        keys are students' IDs and values are lists (first the group then schools' IDs in order of preference)\n",
        "                        example -> {'i1' : ['A',[s1,s3,s2]]} means that student i1 belongs to group A and prefers school s1 first then s2 etc.\n",
        "\n",
        "    --> cap : dictionnary containing the capacities of the schools\n",
        "                keys are schools' IDs and values are integers (capacity of the school)\n",
        "\n",
        "    --> quotas : dictionnary containing the quotas of the schools for each group\n",
        "                keys are schools' IDs and values are dictionnaries (quotas for each group)\n",
        "                example -> {s1 : {'A' : 1, 'B' : 3}} means that the school s1 can accept up to 1 person from group A, 3 from group B etc.\n",
        "\n",
        "    \"\"\"\n",
        "\n",
        "    # Initialization of the matching (empty)\n",
        "    match = {s:[] for s in schools_pref.keys() }\n",
        "\n",
        "    # Initialization of a queue of students not yet matched\n",
        "    stu = deque(students_pref.keys())\n",
        "\n",
        "    # To keep track of how many schools already rejected each student (first choices)\n",
        "    rej = {i: 0 for i in students_pref.keys() }\n",
        "\n",
        "    #How many students from each group admitted in each school\n",
        "    q = {s: {group : 0 for group in quotas[s]} for s in schools_pref.keys() }\n",
        "\n",
        "    while stu : # converts the deque to a boolean which is true if the deque is not empty\n",
        "\n",
        "        current_stu = stu.popleft()\n",
        "\n",
        "        #if the student hasn't already been rejected by all the schools (s)he wants, we keep going\n",
        "        if rej[current_stu]<len(students_pref[current_stu]):\n",
        "\n",
        "            group = students_pref[current_stu][0]\n",
        "            school = students_pref[current_stu][1][rej[current_stu]] #current school we are looking at for the current student\n",
        "            quota = quotas[school][group]\n",
        "\n",
        "            rej[current_stu]+=1\n",
        "\n",
        "            #If the school is not yet at full capacity\n",
        "            #and still hasn't reached its quota in the current student's group\n",
        "            #then put the current student in this school\n",
        "\n",
        "            if len(match[school])<cap[school] and q[school][group]<quota:\n",
        "                match[school].append(current_stu)\n",
        "\n",
        "            else : #It is either a capacity or a quota problem or both :\n",
        "\n",
        "\n",
        "                #If it is only a capacity problem : we do exactly the same as before\n",
        "\n",
        "                current_students = match[school]\n",
        "\n",
        "\n",
        "\n",
        "                if q[school][group]>=quota:\n",
        "\n",
        "                    #If the problem is (even partially) about quota : we only consider other\n",
        "                    #students belonging to the same group to be replaced by the current student\n",
        "\n",
        "                    for i in range (len(current_students)):\n",
        "                        if students_pref[current_students[i]][0]!= group :\n",
        "                            del current_students[i]\n",
        "\n",
        "\n",
        "\n",
        "                #Checking if the school prefers the current student over someone already matched with the school\n",
        "\n",
        "                worst = max_index(current_students,schools_pref[school])\n",
        "\n",
        "                current_student_index = schools_pref[school].index(current_stu)\n",
        "\n",
        "                if current_student_index < schools_pref[school].index(worst) :\n",
        "                    # Case where the school prefers the current student over someone already matched with the school\n",
        "\n",
        "                    # We then replace the \"worst\" student by the current one\n",
        "\n",
        "                    match[school].remove(worst)\n",
        "                    match[school].append(current_stu)\n",
        "\n",
        "                    #update the count of the new student's group in the school\n",
        "\n",
        "                    q[school][group]+=1\n",
        "\n",
        "                    #update the count of the replaced student's group in the school\n",
        "\n",
        "                    worst_group = students_pref[worst][0]\n",
        "                    q[school][worst_group] -= 1\n",
        "\n",
        "                    # And put the \"worst\" student back in the deque since (s)he is free again\n",
        "\n",
        "                    stu.append(worst)\n",
        "\n",
        "                else :\n",
        "                    #Case where the current student cannot enter the school\n",
        "                    #We put him/her back in the deque\n",
        "\n",
        "                    stu.append(current_stu)\n",
        "\n",
        "\n",
        "    return match"
      ]
    },
    {
      "cell_type": "markdown",
      "id": "b177dbd5",
      "metadata": {
        "id": "b177dbd5"
      },
      "source": [
        "### 2.3 Tests\n",
        "\n",
        "#### Now we are going to test the previous algorithms with simple cases to begin then with more complex ones :\n",
        "\n",
        "a. Instance 0 : There are 4 students I = {i1, i2, i3, i4} and 2 schools S = {s1, s2} with the following preferences:\n",
        "\n",
        "- for the students : \n",
        "$≻_{i1} : s1, s2\n",
        "≻_{i2}: s2,s1 \n",
        "≻_{i3}: s1 \n",
        "≻_{i4} : s2 $\n",
        "\n",
        "- for the schools :\n",
        "$≻_{s1}: i4,i3,i2,i1 \n",
        "≻_{s2}: i4,i3,i2,i1 $"
      ]
    },
    {
      "cell_type": "code",
      "execution_count": 43,
      "id": "7a0ee6c3",
      "metadata": {
        "colab": {
          "base_uri": "https://localhost:8080/",
          "height": 659
        },
        "id": "7a0ee6c3",
        "outputId": "d9172cf6-cf00-4aff-9224-7da54dba8008"
      },
      "outputs": [
        {
          "data": {
            "image/png": "[encoded data removed]",
            "text/plain": [
              "<Figure size 600x600 with 1 Axes>"
            ]
          },
          "metadata": {},
          "output_type": "display_data"
        }
      ],
      "source": [
        "## Values :\n",
        "\n",
        "students_pref = {\n",
        "    'i1': ['s1', 's2'],\n",
        "    'i2': ['s2', 's1'],\n",
        "    'i3': ['s1'],\n",
        "    'i4': ['s2']\n",
        "}\n",
        "\n",
        "schools_pref = {\n",
        "    's1': ['i4', 'i3', 'i2', 'i1'],\n",
        "    's2': ['i4', 'i3', 'i2', 'i1']\n",
        "}\n",
        "\n",
        "cap = {'s1': 2, 's2': 2}\n",
        "\n",
        "## Results using the deferred acceptance algorithm :\n",
        "\n",
        "match = deferred_acceptance(schools_pref, students_pref, cap)\n",
        "\n",
        "\n",
        "## Graphic representation of the results :\n",
        "\n",
        "import networkx as nx\n",
        "import matplotlib.pyplot as plt\n",
        "\n",
        "# Creation of a bipartite graph\n",
        "G = nx.Graph()\n",
        "students = ['i1', 'i2', 'i3', 'i4']\n",
        "schools = ['s1', 's2']\n",
        "\n",
        "# Add nodes\n",
        "G.add_nodes_from(students, bipartite=0)  # Left side (students)\n",
        "G.add_nodes_from(schools, bipartite=1)   # Right side (schools)\n",
        "\n",
        "# Add edges based on the matching\n",
        "edges = [(student, school) for school, student_list in match.items() for student in student_list]\n",
        "G.add_edges_from(edges)\n",
        "\n",
        "\n",
        "# Draw the graph\n",
        "pos = {}\n",
        "\n",
        "# Arrange students on the left in the correct order\n",
        "for i, student in enumerate(students):\n",
        "    pos[student] = (1, -i)  # 1 places them on the right\n",
        "\n",
        "# Arrange schools on the right with better spacing\n",
        "for j, school in enumerate(schools):\n",
        "    pos[school] = (-1, -j -1)\n",
        "\n",
        "# Adjust figure size to avoid cutting\n",
        "plt.figure(figsize=(6, 6))\n",
        "\n",
        "# Draw the graph\n",
        "nx.draw(G, pos, with_labels=True, node_color='lightblue', edge_color='gray', node_size=3000, font_size=12)\n",
        "plt.title(\"Graphical Representation of the Matching\")\n",
        "plt.show()"
      ]
    },
    {
      "cell_type": "markdown",
      "id": "7017bc0b",
      "metadata": {
        "id": "7017bc0b"
      },
      "source": [
        "Conclusion about the results : Coherent with the theoritical results.\n"
      ]
    },
    {
      "cell_type": "markdown",
      "id": "UA_dQJNHZnsD",
      "metadata": {
        "id": "UA_dQJNHZnsD"
      },
      "source": [
        "#### Instance 1\n",
        "\n",
        "We take into acount new variables like quotas"
      ]
    },
    {
      "cell_type": "code",
      "execution_count": 44,
      "id": "e7b5a9a3",
      "metadata": {
        "colab": {
          "base_uri": "https://localhost:8080/",
          "height": 659
        },
        "id": "e7b5a9a3",
        "outputId": "e6d21826-7579-4ece-d0fa-a4ea3ff57bd6"
      },
      "outputs": [
        {
          "data": {
            "image/png": "[encoded data removed]",
            "text/plain": [
              "<Figure size 600x600 with 1 Axes>"
            ]
          },
          "metadata": {},
          "output_type": "display_data"
        }
      ],
      "source": [
        "## Values :\n",
        "\n",
        "students_pref1 = {\n",
        "    'i1': ['A',['s1', 's2']],\n",
        "    'i2': ['A',['s2', 's1']],\n",
        "    'i3': ['A',['s1']],\n",
        "    'i4': ['B',['s2']]\n",
        "}\n",
        "\n",
        "schools_pref1 = {\n",
        "    's1': ['i4', 'i3', 'i2', 'i1'],\n",
        "    's2': ['i4', 'i3', 'i2', 'i1']\n",
        "}\n",
        "\n",
        "cap1 = {'s1': 2, 's2': 2}\n",
        "\n",
        "quotas1 = {'s1' : {'A':2,'B':2}, 's2':{'A':2,'B':2}}\n",
        "\n",
        "## Results using the deferred acceptance algorithm :\n",
        "\n",
        "match = deferred_acceptance_quotas(schools_pref1, students_pref1, cap1, quotas1)\n",
        "\n",
        "\n",
        "## Graphic representation of the results :\n",
        "\n",
        "import networkx as nx\n",
        "import matplotlib.pyplot as plt\n",
        "\n",
        "# Creation of a bipartite graph\n",
        "G = nx.Graph()\n",
        "students = ['i1', 'i2', 'i3', 'i4']\n",
        "schools = ['s1', 's2']\n",
        "\n",
        "# Add nodes\n",
        "G.add_nodes_from(students, bipartite=0)  # Left side (students)\n",
        "G.add_nodes_from(schools, bipartite=1)   # Right side (schools)\n",
        "\n",
        "# Add edges based on the matching\n",
        "edges = [(student, school) for school, student_list in match.items() for student in student_list]\n",
        "G.add_edges_from(edges)\n",
        "\n",
        "\n",
        "# Draw the graph\n",
        "pos = {}\n",
        "\n",
        "# Arrange students on the left in the correct order\n",
        "for i, student in enumerate(students):\n",
        "    pos[student] = (1, -i)  # 1 places them on the right\n",
        "\n",
        "# Arrange schools on the right with better spacing\n",
        "for j, school in enumerate(schools):\n",
        "    pos[school] = (-1, -j -1)\n",
        "\n",
        "# Adjust figure size to avoid cutting\n",
        "plt.figure(figsize=(6, 6))\n",
        "\n",
        "# Draw the graph\n",
        "nx.draw(G, pos, with_labels=True, node_color='lightblue', edge_color='gray', node_size=3000, font_size=12)\n",
        "plt.title(\"Graphical Representation of the Matching\")\n",
        "plt.show()"
      ]
    },
    {
      "cell_type": "markdown",
      "id": "12d65c53",
      "metadata": {
        "id": "12d65c53"
      },
      "source": [
        "Conclusion about the results : here, the quotas do not change the results of the matching. This is exactly what is found and represented by the algorithm.\n",
        "\n",
        "\n",
        "#### Instance 2\n",
        "\n",
        "There are n students $I = {i_1, · · · , i_n}$ and 2 schools $S = {s_1, s_2}$. Student i’s preference is $≻_i : s_1 , s_2 or ≻_i : s_2 , s_1$ , drawn randomly with uniform probability (independently of the student’s group). Each student i has a latent quality $W_i$, drawn randomly according to a standard normal distribution. Each school observes a noisy version of the student’s quality $Wˆ_i = W_i + ε_i$ where $ε_i$ is a random noise that also follows a standard normal distribution. The noises are independent for the 2 schools. Then each school’s preference list simply ranks the students in decreasing order of observed quality Wˆ .\n",
        "The set of groups is G = {A,B}. Students I = {i1,··· ,im} are of group A, where m = ⌊$p_A$ · n⌋ and $p_A$ = 9/10 is the fraction of students of group A; other students are of group B. The costs are $w_A$ = 1 for students of group A and $w_B$ = 10 for students of group B. Each school has a capacity of ⌊n/4⌋, and a quota of ⌊0.9n/4⌋ for each group.\n",
        "\n",
        "For this instance, we will first generate a realization of this random instance and then do the matching on it. We are going to compute and show the number of students that are assigned to their first choice, for each group. Then, we will run multiple realizations and compute average values. Finally, we will test multiple values of n and investigate how the results depend on n briefly."
      ]
    },
    {
      "cell_type": "code",
      "execution_count": 45,
      "id": "a341d4de",
      "metadata": {
        "colab": {
          "base_uri": "https://localhost:8080/"
        },
        "id": "a341d4de",
        "outputId": "0582d299-559c-4c3c-b9fa-fc32be36b87a"
      },
      "outputs": [
        {
          "name": "stdout",
          "output_type": "stream",
          "text": [
            "In the matching obtained : \n",
            "Number of student of group A who had their first choice : 33\n",
            "Number of student of group B who had their first choice : 3\n"
          ]
        }
      ],
      "source": [
        "import random\n",
        "\n",
        "\n",
        "def m(n):\n",
        "    return int(0.9*n)\n",
        "\n",
        "\n",
        "def instance2(n,m):\n",
        "\n",
        "    \"\"\"\n",
        "    returns the number of students that are assigned to their first choice, for each group.\n",
        "\n",
        "    \"\"\"\n",
        "\n",
        "\n",
        "    cap2 = {'s1': int(n/4), 's2': int(n/4)}\n",
        "\n",
        "    quotas2 = {'s1' : {'A':int(0.9*n/4),'B':int(0.9*n/4)}, 's2':{'A':int(0.9*n/4),'B':int(0.9*n/4)}}\n",
        "\n",
        "\n",
        "    #Same structure as before :\n",
        "    students_pref2 = {}\n",
        "    schools_pref2 = {}\n",
        "\n",
        "    #for each student, contains the observed quality bu each school :\n",
        "    s1_quality = {}\n",
        "    s2_quality = {}\n",
        "\n",
        "    for i in range(1,n+1):\n",
        "\n",
        "        #Preference of Student i :\n",
        "\n",
        "        a = random.uniform(0,1)\n",
        "        school1 = 's1'\n",
        "        school2 = 's2'\n",
        "        if a<0.5:\n",
        "            school1='s2'\n",
        "            school2='s1'\n",
        "\n",
        "        group='A'\n",
        "        if i>m :\n",
        "            group='B'\n",
        "\n",
        "        students_pref2['i'+str(i)]=[group,[school1,school2]]\n",
        "\n",
        "        #Preference of the schools :\n",
        "\n",
        "        W = random.gauss(0,1) # W_i : latent quality of student i\n",
        "        W1 = W + random.gauss(0,1) # noisy version observed by school s1\n",
        "        W2 = W + random.gauss(0,1) # noisy version observed by school s2\n",
        "\n",
        "        s1_quality['i'+str(i)]=W1\n",
        "        s2_quality['i'+str(i)]=W2\n",
        "\n",
        "\n",
        "    #We still have to build the schools' preference lists based on the observed quality\n",
        "\n",
        "    def pref_list(quality):\n",
        "\n",
        "        \"\"\"\n",
        "        Returns the school’s preference list by ranking the students in decreasing order of\n",
        "        observed quality (which is contained in the dictionary \"quality\").\n",
        "\n",
        "        \"\"\"\n",
        "\n",
        "        l = []\n",
        "        quality_copy = quality.copy()\n",
        "\n",
        "        while quality_copy:  # Loop until all students are processed\n",
        "\n",
        "            maxi = float('-inf')\n",
        "            stu = None\n",
        "\n",
        "            # Finding the student with the maximum quality\n",
        "            for s in quality_copy.keys():\n",
        "                if quality_copy[s] > maxi:\n",
        "                    maxi = quality_copy[s]\n",
        "                    stu = s\n",
        "\n",
        "            l.append(stu)  # Adding the student with the highest quality\n",
        "            del quality_copy[stu]  # Removing the student from the copy of the dictionary\n",
        "\n",
        "        return l\n",
        "\n",
        "\n",
        "    schools_pref2 = {'s1' : pref_list(s1_quality), 's2' : pref_list(s2_quality) }\n",
        "\n",
        "    ## Results using the deferred acceptance algorithm :\n",
        "\n",
        "    matching = deferred_acceptance_quotas(schools_pref2, students_pref2, cap2, quotas2)\n",
        "\n",
        "\n",
        "    ## Counting the number of students that are assigned\n",
        "    ## to their first choice in each group\n",
        "\n",
        "    first_choice = {'A' : 0 , 'B' : 0}\n",
        "\n",
        "    for s in matching :\n",
        "\n",
        "        for i in matching[s]:\n",
        "\n",
        "            group=students_pref2[i][0]\n",
        "\n",
        "            if students_pref2[i][1][0]==s:\n",
        "                first_choice[group]+=1\n",
        "\n",
        "    return first_choice\n",
        "\n",
        "\n",
        "## first try with n = 100 :\n",
        "\n",
        "n = 100 # number of students\n",
        "\n",
        "first_choice = instance2(n,m(n))\n",
        "\n",
        "\n",
        "print(\"In the matching obtained : \" )\n",
        "print(\"Number of student of group A who had their first choice : \" + str(first_choice['A']))\n",
        "print(\"Number of student of group B who had their first choice : \" + str(first_choice['B']))"
      ]
    },
    {
      "cell_type": "code",
      "execution_count": 46,
      "id": "270df365",
      "metadata": {
        "colab": {
          "base_uri": "https://localhost:8080/",
          "height": 342
        },
        "id": "270df365",
        "outputId": "51096815-3cb8-4cf8-c30c-3d80f25cd606"
      },
      "outputs": [
        {
          "data": {
            "image/png": "[encoded data removed]",
            "text/plain": [
              "<Figure size 1000x500 with 1 Axes>"
            ]
          },
          "metadata": {},
          "output_type": "display_data"
        }
      ],
      "source": [
        "## Multiple realizations and average values :\n",
        "\n",
        "def avg2(N,n,m):\n",
        "\n",
        "    \"\"\"\n",
        "    returns the average value of the number of first choices\n",
        "    in both groups A and B based on N realizations\n",
        "\n",
        "    \"\"\"\n",
        "    na,nb=0,0\n",
        "    for i in range(N):\n",
        "        f = instance2(n,m)\n",
        "        na+=f['A']\n",
        "        nb+=f['B']\n",
        "\n",
        "    return [na/N,nb/N]\n",
        "\n",
        "\n",
        "## Dependance of the results on n :\n",
        "\n",
        "N = 200\n",
        "YA = []\n",
        "YB = []\n",
        "X = []\n",
        "\n",
        "for n in range (5,70):\n",
        "\n",
        "    f = avg2(N,n,m(n))\n",
        "    YA.append(f[0])\n",
        "    YB.append(f[1])\n",
        "    X.append(n)\n",
        "\n",
        "## Representation of the results :\n",
        "\n",
        "plt.figure(figsize=(10, 5))\n",
        "\n",
        "plt.plot(X, YA, label=\"YA\", marker=\"o\", linestyle=\"-\")\n",
        "plt.plot(X, YB, label=\"YB\", marker=\"s\", linestyle=\"--\")\n",
        "\n",
        "\n",
        "plt.xlabel(\"n\")\n",
        "plt.ylabel(\"YA and YB\")\n",
        "plt.title(\"Evolution of the average number of students who had their first choice in groups A and B as a function of n\")\n",
        "plt.legend()\n",
        "plt.grid(True)\n",
        "\n",
        "plt.show()"
      ]
    },
    {
      "cell_type": "markdown",
      "id": "d42f0d37",
      "metadata": {
        "id": "d42f0d37"
      },
      "source": [
        "We can notice that both YA and YB depend on n but in different ways :\n",
        "\n",
        "- For YA : evolution in stages like the whole part function. Approximation : similar to $ YA_n = \\lfloor \\frac{n}{3.3} \\rfloor $\n",
        "- For YB : linear evolution with a positive slope. Approximation : similar to $YB_n = \\frac{n}{30} $\n",
        "\n",
        "Let's see how the approximation curves overlap with the real curves :\n"
      ]
    },
    {
      "cell_type": "code",
      "execution_count": 47,
      "id": "dj6dJnS9QRMK",
      "metadata": {
        "colab": {
          "base_uri": "https://localhost:8080/",
          "height": 368
        },
        "id": "dj6dJnS9QRMK",
        "outputId": "f108dd17-fca1-439f-f180-9aba15c8e53a"
      },
      "outputs": [
        {
          "data": {
            "image/png": "[encoded data removed]",
            "text/plain": [
              "<Figure size 1000x500 with 1 Axes>"
            ]
          },
          "metadata": {},
          "output_type": "display_data"
        }
      ],
      "source": [
        "Ya_th = [ int(n/3.3) for n in range(5,70)]\n",
        "Yb_th = [ n/30 for n in range(5,70)]\n",
        "\n",
        "## Representation of the results :\n",
        "\n",
        "plt.figure(figsize=(10, 5))\n",
        "\n",
        "plt.plot(X, YA, label=\"YA\", marker=\"o\", linestyle=\"-\")\n",
        "plt.plot(X, YB, label=\"YB\", marker=\"s\", linestyle=\"--\")\n",
        "plt.plot(X, Ya_th, label=\"YA_th\", marker=\"o\", linestyle=\"-\")\n",
        "plt.plot(X, Yb_th, label=\"YB_th\", marker=\"s\", linestyle=\"--\")\n",
        "\n",
        "plt.xlabel(\"n\")\n",
        "plt.ylabel(\"YA and Ya_th , YB and Yb_th\")\n",
        "plt.title(\"Comparison of the modelisation with the actual values of YA and YB as functions of n\")\n",
        "plt.legend()\n",
        "plt.grid(True)\n",
        "\n",
        "plt.show()"
      ]
    },
    {
      "cell_type": "markdown",
      "id": "hNXod9hJQRrX",
      "metadata": {
        "id": "hNXod9hJQRrX"
      },
      "source": [
        "As a first approach, the approximation of the relation between (YA and n) and (YB and n) seems satisfying. The curves overlap pretty well at first sight. With a deeper analysis we could probably find curves that would overlap even better but it is not the main subject of this project.  \n",
        "\n",
        "#### Instance 3\n",
        "\n",
        "Same as Instance 2 but with 4 groups {A, B, C, D} of fractions $p_A$ = 10/20, $p_B$ = 6/20, $p_C$ = 3/20.\n",
        "Each school still has a quota of ⌊0.9n/4⌋ for each group."
      ]
    },
    {
      "cell_type": "code",
      "execution_count": 48,
      "id": "78ff7066",
      "metadata": {
        "colab": {
          "base_uri": "https://localhost:8080/",
          "height": 436
        },
        "id": "78ff7066",
        "outputId": "121efbb1-6b18-4e56-ebc3-4ce705a8a1ba",
        "scrolled": true
      },
      "outputs": [
        {
          "ename": "IndexError",
          "evalue": "list index out of range",
          "output_type": "error",
          "traceback": [
            "\u001b[0;31m---------------------------------------------------------------------------\u001b[0m",
            "\u001b[0;31mIndexError\u001b[0m                                Traceback (most recent call last)",
            "\u001b[0;32m<ipython-input-48-a4251fca07b1>\u001b[0m in \u001b[0;36m<cell line: 0>\u001b[0;34m()\u001b[0m\n\u001b[1;32m    149\u001b[0m \u001b[0;32mfor\u001b[0m \u001b[0mn\u001b[0m \u001b[0;32min\u001b[0m \u001b[0mrange\u001b[0m \u001b[0;34m(\u001b[0m\u001b[0;36m5\u001b[0m\u001b[0;34m,\u001b[0m\u001b[0;36m70\u001b[0m\u001b[0;34m)\u001b[0m\u001b[0;34m:\u001b[0m\u001b[0;34m\u001b[0m\u001b[0;34m\u001b[0m\u001b[0m\n\u001b[1;32m    150\u001b[0m \u001b[0;34m\u001b[0m\u001b[0m\n\u001b[0;32m--> 151\u001b[0;31m     \u001b[0mf\u001b[0m \u001b[0;34m=\u001b[0m \u001b[0mavg3\u001b[0m\u001b[0;34m(\u001b[0m\u001b[0mN\u001b[0m\u001b[0;34m,\u001b[0m\u001b[0mn\u001b[0m\u001b[0;34m,\u001b[0m\u001b[0mm\u001b[0m\u001b[0;34m(\u001b[0m\u001b[0mn\u001b[0m\u001b[0;34m)\u001b[0m\u001b[0;34m)\u001b[0m\u001b[0;34m\u001b[0m\u001b[0;34m\u001b[0m\u001b[0m\n\u001b[0m\u001b[1;32m    152\u001b[0m     \u001b[0mYA\u001b[0m\u001b[0;34m.\u001b[0m\u001b[0mappend\u001b[0m\u001b[0;34m(\u001b[0m\u001b[0mf\u001b[0m\u001b[0;34m[\u001b[0m\u001b[0;36m0\u001b[0m\u001b[0;34m]\u001b[0m\u001b[0;34m)\u001b[0m\u001b[0;34m\u001b[0m\u001b[0;34m\u001b[0m\u001b[0m\n\u001b[1;32m    153\u001b[0m     \u001b[0mYB\u001b[0m\u001b[0;34m.\u001b[0m\u001b[0mappend\u001b[0m\u001b[0;34m(\u001b[0m\u001b[0mf\u001b[0m\u001b[0;34m[\u001b[0m\u001b[0;36m1\u001b[0m\u001b[0;34m]\u001b[0m\u001b[0;34m)\u001b[0m\u001b[0;34m\u001b[0m\u001b[0;34m\u001b[0m\u001b[0m\n",
            "\u001b[0;32m<ipython-input-48-a4251fca07b1>\u001b[0m in \u001b[0;36mavg3\u001b[0;34m(N, n, m)\u001b[0m\n\u001b[1;32m    129\u001b[0m     \u001b[0mna\u001b[0m\u001b[0;34m,\u001b[0m\u001b[0mnb\u001b[0m\u001b[0;34m,\u001b[0m\u001b[0mnc\u001b[0m\u001b[0;34m,\u001b[0m\u001b[0mnd\u001b[0m\u001b[0;34m=\u001b[0m\u001b[0;36m0\u001b[0m\u001b[0;34m,\u001b[0m\u001b[0;36m0\u001b[0m\u001b[0;34m,\u001b[0m\u001b[0;36m0\u001b[0m\u001b[0;34m,\u001b[0m\u001b[0;36m0\u001b[0m\u001b[0;34m\u001b[0m\u001b[0;34m\u001b[0m\u001b[0m\n\u001b[1;32m    130\u001b[0m     \u001b[0;32mfor\u001b[0m \u001b[0mi\u001b[0m \u001b[0;32min\u001b[0m \u001b[0mrange\u001b[0m\u001b[0;34m(\u001b[0m\u001b[0mN\u001b[0m\u001b[0;34m)\u001b[0m\u001b[0;34m:\u001b[0m\u001b[0;34m\u001b[0m\u001b[0;34m\u001b[0m\u001b[0m\n\u001b[0;32m--> 131\u001b[0;31m         \u001b[0mf\u001b[0m \u001b[0;34m=\u001b[0m \u001b[0minstance3\u001b[0m\u001b[0;34m(\u001b[0m\u001b[0mn\u001b[0m\u001b[0;34m,\u001b[0m\u001b[0mpa\u001b[0m\u001b[0;34m,\u001b[0m\u001b[0mpb\u001b[0m\u001b[0;34m,\u001b[0m\u001b[0mpc\u001b[0m\u001b[0;34m,\u001b[0m\u001b[0mpd\u001b[0m\u001b[0;34m)\u001b[0m\u001b[0;34m\u001b[0m\u001b[0;34m\u001b[0m\u001b[0m\n\u001b[0m\u001b[1;32m    132\u001b[0m         \u001b[0mna\u001b[0m\u001b[0;34m+=\u001b[0m\u001b[0mf\u001b[0m\u001b[0;34m[\u001b[0m\u001b[0;34m'A'\u001b[0m\u001b[0;34m]\u001b[0m\u001b[0;34m\u001b[0m\u001b[0;34m\u001b[0m\u001b[0m\n\u001b[1;32m    133\u001b[0m         \u001b[0mnb\u001b[0m\u001b[0;34m+=\u001b[0m\u001b[0mf\u001b[0m\u001b[0;34m[\u001b[0m\u001b[0;34m'B'\u001b[0m\u001b[0;34m]\u001b[0m\u001b[0;34m\u001b[0m\u001b[0;34m\u001b[0m\u001b[0m\n",
            "\u001b[0;32m<ipython-input-48-a4251fca07b1>\u001b[0m in \u001b[0;36minstance3\u001b[0;34m(n, pa, pb, pc, pd)\u001b[0m\n\u001b[1;32m     96\u001b[0m     \u001b[0;31m## Results using the deferred acceptance algorithm :\u001b[0m\u001b[0;34m\u001b[0m\u001b[0;34m\u001b[0m\u001b[0m\n\u001b[1;32m     97\u001b[0m \u001b[0;34m\u001b[0m\u001b[0m\n\u001b[0;32m---> 98\u001b[0;31m     \u001b[0mmatching\u001b[0m \u001b[0;34m=\u001b[0m \u001b[0mdeferred_acceptance_quotas\u001b[0m\u001b[0;34m(\u001b[0m\u001b[0mschools_pref3\u001b[0m\u001b[0;34m,\u001b[0m \u001b[0mstudents_pref3\u001b[0m\u001b[0;34m,\u001b[0m \u001b[0mcap3\u001b[0m\u001b[0;34m,\u001b[0m \u001b[0mquotas3\u001b[0m\u001b[0;34m)\u001b[0m\u001b[0;34m\u001b[0m\u001b[0;34m\u001b[0m\u001b[0m\n\u001b[0m\u001b[1;32m     99\u001b[0m \u001b[0;34m\u001b[0m\u001b[0m\n\u001b[1;32m    100\u001b[0m \u001b[0;34m\u001b[0m\u001b[0m\n",
            "\u001b[0;32m<ipython-input-42-564a05221def>\u001b[0m in \u001b[0;36mdeferred_acceptance_quotas\u001b[0;34m(schools_pref, students_pref, cap, quotas)\u001b[0m\n\u001b[1;32m     67\u001b[0m \u001b[0;34m\u001b[0m\u001b[0m\n\u001b[1;32m     68\u001b[0m                     \u001b[0;32mfor\u001b[0m \u001b[0mi\u001b[0m \u001b[0;32min\u001b[0m \u001b[0mrange\u001b[0m \u001b[0;34m(\u001b[0m\u001b[0mlen\u001b[0m\u001b[0;34m(\u001b[0m\u001b[0mcurrent_students\u001b[0m\u001b[0;34m)\u001b[0m\u001b[0;34m)\u001b[0m\u001b[0;34m:\u001b[0m\u001b[0;34m\u001b[0m\u001b[0;34m\u001b[0m\u001b[0m\n\u001b[0;32m---> 69\u001b[0;31m                         \u001b[0;32mif\u001b[0m \u001b[0mstudents_pref\u001b[0m\u001b[0;34m[\u001b[0m\u001b[0mcurrent_students\u001b[0m\u001b[0;34m[\u001b[0m\u001b[0mi\u001b[0m\u001b[0;34m]\u001b[0m\u001b[0;34m]\u001b[0m\u001b[0;34m[\u001b[0m\u001b[0;36m0\u001b[0m\u001b[0;34m]\u001b[0m\u001b[0;34m!=\u001b[0m \u001b[0mgroup\u001b[0m \u001b[0;34m:\u001b[0m\u001b[0;34m\u001b[0m\u001b[0;34m\u001b[0m\u001b[0m\n\u001b[0m\u001b[1;32m     70\u001b[0m                             \u001b[0;32mdel\u001b[0m \u001b[0mcurrent_students\u001b[0m\u001b[0;34m[\u001b[0m\u001b[0mi\u001b[0m\u001b[0;34m]\u001b[0m\u001b[0;34m\u001b[0m\u001b[0;34m\u001b[0m\u001b[0m\n\u001b[1;32m     71\u001b[0m \u001b[0;34m\u001b[0m\u001b[0m\n",
            "\u001b[0;31mIndexError\u001b[0m: list index out of range"
          ]
        }
      ],
      "source": [
        "##Variables :\n",
        "\n",
        "n=100\n",
        "pa = 10/20\n",
        "pb = 6/20\n",
        "pc = 3/20\n",
        "pd = 1/20\n",
        "\n",
        "## Adaptation of the model for 4 groups :\n",
        "\n",
        "def instance3(n,pa,pb,pc,pd):\n",
        "\n",
        "    \"\"\"\n",
        "    returns the number of students that are assigned to their first choice, for each group.\n",
        "\n",
        "    \"\"\"\n",
        "\n",
        "\n",
        "    cap3 = {'s1': int(n/4), 's2': int(n/4)}\n",
        "\n",
        "    quotas3 = {'s1' : {'A':int(0.9*n/4),'B':int(0.9*n/4),'C':int(0.9*n/4),'D':int(0.9*n/4)}, 's2':{'A':int(0.9*n/4),'B':int(0.9*n/4),'C':int(0.9*n/4),'D':int(0.9*n/4)}}\n",
        "\n",
        "\n",
        "    #Same structure as before :\n",
        "    students_pref3 = {}\n",
        "    schools_pref3 = {}\n",
        "\n",
        "    #for each student, contains the observed quality bu each school :\n",
        "    s1_quality = {}\n",
        "    s2_quality = {}\n",
        "\n",
        "    for i in range(1,n+1):\n",
        "\n",
        "        #Preference of Student i :\n",
        "\n",
        "        a = random.uniform(0,1)\n",
        "        school1 = 's1'\n",
        "        school2 = 's2'\n",
        "        if a<0.5:\n",
        "            school1='s2'\n",
        "            school2='s1'\n",
        "\n",
        "        if i<=int(pa*n):\n",
        "            group='A'\n",
        "        elif i<=int((pa+pb)*n):\n",
        "            group='B'\n",
        "        elif i<=int((pa+pb+pc)*n):\n",
        "            group='C'\n",
        "        else :\n",
        "            group='D'\n",
        "\n",
        "        students_pref3['i'+str(i)]=[group,[school1,school2]]\n",
        "\n",
        "        #Preference of the schools :\n",
        "\n",
        "        W = random.gauss(0,1) # W_i : latent quality of student i\n",
        "        W1 = W + random.gauss(0,1) # noisy version observed by school s1\n",
        "        W2 = W + random.gauss(0,1) # noisy version observed by school s2\n",
        "\n",
        "        s1_quality['i'+str(i)]=W1\n",
        "        s2_quality['i'+str(i)]=W2\n",
        "\n",
        "\n",
        "    #We still have to build the schools' preference lists based on the observed quality\n",
        "\n",
        "    def pref_list(quality):\n",
        "\n",
        "        \"\"\"\n",
        "        Returns the school’s preference list by ranking the students in decreasing order of\n",
        "        observed quality (which is contained in the dictionary \"quality\").\n",
        "\n",
        "        \"\"\"\n",
        "\n",
        "        l = []\n",
        "        quality_copy = quality.copy()\n",
        "\n",
        "        while quality_copy:  # Loop until all students are processed\n",
        "\n",
        "            maxi = float('-inf')\n",
        "            stu = None\n",
        "\n",
        "            # Finding the student with the maximum quality\n",
        "            for s in quality_copy.keys():\n",
        "                if quality_copy[s] > maxi:\n",
        "                    maxi = quality_copy[s]\n",
        "                    stu = s\n",
        "\n",
        "            l.append(stu)  # Adding the student with the highest quality\n",
        "            del quality_copy[stu]  # Removing the student from the copy of the dictionary\n",
        "\n",
        "        return l\n",
        "\n",
        "\n",
        "    schools_pref3 = {'s1' : pref_list(s1_quality), 's2' : pref_list(s2_quality) }\n",
        "\n",
        "    ## Results using the deferred acceptance algorithm :\n",
        "\n",
        "    matching = deferred_acceptance_quotas(schools_pref3, students_pref3, cap3, quotas3)\n",
        "\n",
        "\n",
        "    ## Counting the number of students that are assigned\n",
        "    ## to their first choice in each group\n",
        "\n",
        "    first_choice = {'A' : 0 , 'B' : 0 , 'C' : 0 , 'D' : 0}\n",
        "\n",
        "    for s in matching :\n",
        "\n",
        "        for i in matching[s]:\n",
        "\n",
        "            group=students_pref3[i][0]\n",
        "\n",
        "            if students_pref3[i][1][0]==s:\n",
        "                first_choice[group]+=1\n",
        "\n",
        "    return first_choice\n",
        "\n",
        "\n",
        "\n",
        "\n",
        "## Multiple realizations and average values :\n",
        "\n",
        "def avg3(N,n,m):\n",
        "\n",
        "    \"\"\"\n",
        "    returns the average value of the number of first choices\n",
        "    in groups A, B, C and D based on N realizations\n",
        "\n",
        "    \"\"\"\n",
        "    na,nb,nc,nd=0,0,0,0\n",
        "    for i in range(N):\n",
        "        f = instance3(n,pa,pb,pc,pd)\n",
        "        na+=f['A']\n",
        "        nb+=f['B']\n",
        "        nc+=f['C']\n",
        "        nd+=f['D']\n",
        "\n",
        "    return [na/N,nb/N,nc/N,nd/N]\n",
        "\n",
        "\n",
        "## Dependance of the results on n :\n",
        "\n",
        "N = 200\n",
        "YA = []\n",
        "YB = []\n",
        "YC = []\n",
        "YD = []\n",
        "X = []\n",
        "\n",
        "for n in range (5,70):\n",
        "\n",
        "    f = avg3(N,n,m(n))\n",
        "    YA.append(f[0])\n",
        "    YB.append(f[1])\n",
        "    YC.append(f[2])\n",
        "    YD.append(f[3])\n",
        "    X.append(n)\n",
        "\n",
        "## Representation of the results :\n",
        "\n",
        "plt.figure(figsize=(10, 5))\n",
        "\n",
        "plt.plot(X, YA, label=\"YA\", marker=\"o\", linestyle=\"-\")\n",
        "plt.plot(X, YB, label=\"YB\", marker=\"s\", linestyle=\"--\")\n",
        "plt.plot(X, YC, label=\"YC\", marker=\"l\", linestyle=\"-\")\n",
        "plt.plot(X, YD, label=\"YD\", marker=\"p\", linestyle=\"--\")\n",
        "\n",
        "\n",
        "plt.xlabel(\"n\")\n",
        "plt.ylabel(\"YA, YB, YC and YD\")\n",
        "plt.title(\"Evolution of the average number of students who had their first choice in groups A and B as a function of n\")\n",
        "plt.legend()\n",
        "plt.grid(True)\n",
        "\n",
        "plt.show()\n"
      ]
    },
    {
      "cell_type": "markdown",
      "id": "x28vpu0LSTZR",
      "metadata": {
        "id": "x28vpu0LSTZR"
      },
      "source": [
        "The code in the previous cell doesn't work but I do not understand why : the error is a list index out of range error but we cannot understand why this is happening.\n",
        "So if someone understands it and finds a solution do not hesitate to submit a change !\n",
        "\n",
        "\n",
        "## 3. Fair rankings\n",
        "\n",
        "The maximum quotas constraints are limited in that they do not guarantee a minimum number of students from the different groups, which non-discrimination rules typically do. A more stringent notion is known as the 4/5-rule: for any group, the fraction of students of the group at any school cannot be less than 80% or more than 120% of the fraction of students of that group in I.\n",
        "Guaranteeing that the obtained matching satisfies the 4/5-rule is non-trivial. We consider here a first natural idea: we will modify the schools preference lists such that, for any rank k, the subset of students ranked k or better satisfy the 4/5-rule up to one unit."
      ]
    },
    {
      "cell_type": "markdown",
      "id": "5lqhko_6XKcy",
      "metadata": {
        "id": "5lqhko_6XKcy"
      },
      "source": [
        "#### a. 4/5 rule \n",
        "The following algorithm changes schools preference lists so that they satisfy the 4/5-rule up to one unit while minimizing the distance to the initial ranking."
      ]
    },
    {
      "cell_type": "code",
      "execution_count": 49,
      "id": "9a32b212",
      "metadata": {
        "id": "9a32b212"
      },
      "outputs": [],
      "source": [
        "def modify_school_preferences(schools_pref, students_pref):\n",
        "\n",
        "    modified_preferences = {}\n",
        "    proportions = count_proportion(students_pref)\n",
        "    '''\n",
        "   --> schools_pref : dictionnary containing schools' preferrences :\n",
        "                       keys are schools' IDs and values are lists of students' IDs in order of preference.\n",
        "\n",
        "   --> students_pref : dictionnary containing students' preferrences and their group:\n",
        "                        keys are students' IDs and values are lists (first the group then schools' IDs in order of preference)\n",
        "                        example -> {'i1' : ['A',[s1,s3,s2]]} means that student i1 belongs to group A and prefers school s1 first then s2 etc.\n",
        "\n",
        "    --> proportions : dictionnary containing the group's proportion: keys are the type of group and value is the proportion of the group in the entire school population\n",
        "                example -> {'A' : 0.30, 'B' : 0.70}\n",
        "\n",
        "    --> modified_preferences : dictionnary containing schools' modified preferences to satisfy the 4/5 rule'''\n",
        "\n",
        "\n",
        "    for school, school_pref_list in schools_pref.items():\n",
        "        count = {group: 0 for group in proportions}\n",
        "        list = []\n",
        "        'initialization of the group count and of the list built incrementally'\n",
        "\n",
        "        for student in school_pref_list:\n",
        "            group = students_pref[student][0]\n",
        "            count[group]+=1\n",
        "            list.append(student)\n",
        "            if not check_rule(count, len(list),  proportions):\n",
        "                'verify the top-k students follow the rule for all groups, if the rule isnt respected, remove student'\n",
        "                list.remove(student)\n",
        "                for i in range(len(school_pref_list)):\n",
        "                        x = school_pref_list[i]\n",
        "                        y = students_pref[x][0]\n",
        "                        if x not in list:\n",
        "                            count[y] +=1\n",
        "                            list.append(x)\n",
        "                            break\n",
        "                        'we put a student from an underrepresented group in the list'\n",
        "\n",
        "            modified_preferences[school] = list\n",
        "\n",
        "    return modified_preferences\n",
        "\n",
        "'returns a dictionnary with the modified students. the changes only occur when there is an anomaly and at the smallest distance'\n",
        "\n",
        "\n",
        "def check_rule(group_count, number_students, proportions):\n",
        "    #Verifies the group count satisfies the rule\n",
        "\n",
        "    '''\n",
        "    --> group_count : dictionnary containing the current number of students of the group :\n",
        "                        keys are groups and values are the currrent number of the groups' students\n",
        "\n",
        "    --> number_students : integer of the number of students in the top-k list\n",
        "\n",
        "     --> proportions : dictionnary containing the group's proportion: keys are the type of group and value is the proportion of the group in the entire school population\n",
        "                 example -> {'A' : 0.30, 'B' : 0.70}\n",
        "                 '''\n",
        "    for group, proportion in proportions.items():\n",
        "        min = 0.8*proportion*number_students\n",
        "        max = 1.2*proportion*number_students\n",
        "\n",
        "        if group_count[group]<min or group_count[group]>max:\n",
        "            return False\n",
        "\n",
        "    return True\n",
        "\n",
        "def count_proportion(students_pref):\n",
        "    group_dictionnary = {}\n",
        "    total_students = len(students_pref)\n",
        "    for student, value in students_pref.items():\n",
        "        group = value[0]\n",
        "        if group not in group_dictionnary:\n",
        "            group_dictionnary[group] = 0\n",
        "        group_dictionnary[group] +=1\n",
        "    group_proportions = {group: count/total_students for group, count in group_dictionnary.items()}\n",
        "    return group_proportions\n",
        "\n"
      ]
    },
    {
      "cell_type": "markdown",
      "id": "_VPhfFqcU-9b",
      "metadata": {
        "id": "_VPhfFqcU-9b"
      },
      "source": [
        "#### b. Tests\n",
        "Now, let's apply the deferred acceptance algorithm (with quotas) on the new rankings in the instances, and see if the final matchings satisfy the 4/5-rule :"
      ]
    },
    {
      "cell_type": "markdown",
      "id": "bu_Pe4XTaakq",
      "metadata": {
        "id": "bu_Pe4XTaakq"
      },
      "source": [
        "##### Instance 1"
      ]
    },
    {
      "cell_type": "code",
      "execution_count": 50,
      "id": "ef16665f-b796-4439-b761-b7117a886d9b",
      "metadata": {
        "colab": {
          "base_uri": "https://localhost:8080/"
        },
        "id": "ef16665f-b796-4439-b761-b7117a886d9b",
        "outputId": "0838b1bc-9308-4ab8-f6ab-b6a725f51fd0"
      },
      "outputs": [
        {
          "name": "stdout",
          "output_type": "stream",
          "text": [
            "False for instance 1\n"
          ]
        }
      ],
      "source": [
        "modif = modify_school_preferences(schools_pref1, students_pref1)\n",
        "\n",
        "matching = deferred_acceptance_quotas(modif, students_pref1, cap1, quotas1)\n",
        "\n",
        "def check_matching(matching, students_pref):\n",
        "    proportions = count_proportion(students_pref1)\n",
        "    for school, students in matching.items():\n",
        "        students_from_matching_pref = {}\n",
        "        for eleve in students:\n",
        "            students_from_matching_pref[eleve] = students_pref[eleve]\n",
        "        school_proportion = count_proportion(students_from_matching_pref)\n",
        "        for group, prop in proportions.items():\n",
        "            if not (0.8*prop<=school_proportion[group] and school_proportion[group]<=1.2*prop):\n",
        "                return False\n",
        "    return True\n",
        "\n",
        "print(check_matching(matching, students_pref1), \"for instance 1\")\n",
        "\n"
      ]
    },
    {
      "cell_type": "markdown",
      "id": "_HiibGAPaRL_",
      "metadata": {
        "id": "_HiibGAPaRL_"
      },
      "source": [
        "We are supposed to find false as there is no matching for this instance that satisfies the 4/5 rule. Indeed, we cannot obtain the right percentage of B in any matching possible."
      ]
    },
    {
      "cell_type": "markdown",
      "id": "1C42glcsaieH",
      "metadata": {
        "id": "1C42glcsaieH"
      },
      "source": [
        "##### Instance 2"
      ]
    },
    {
      "cell_type": "code",
      "execution_count": 51,
      "id": "wYZuqGxhaUM8",
      "metadata": {
        "colab": {
          "base_uri": "https://localhost:8080/"
        },
        "id": "wYZuqGxhaUM8",
        "outputId": "9f998e16-e4be-4f3c-dce8-231362c87fee"
      },
      "outputs": [
        {
          "name": "stdout",
          "output_type": "stream",
          "text": [
            "False for instance 2\n"
          ]
        }
      ],
      "source": [
        "import random\n",
        "n=10\n",
        "\n",
        "def m(n):\n",
        "    return int(0.9*n)\n",
        "\n",
        "cap = {'s1': int(n/4), 's2': int(n/4)}\n",
        "\n",
        "quotas = {'s1' : {'A':int(0.9*n/4),'B':int(0.9*n/4)}, 's2':{'A':int(0.9*n/4),'B':int(0.9*n/4)}}\n",
        "\n",
        "\n",
        "#Same structure as before :\n",
        "student_pref = {}\n",
        "school_pref = {}\n",
        "\n",
        "#for each student, contains the observed quality by each school :\n",
        "s1_quality = {}\n",
        "s2_quality = {}\n",
        "\n",
        "for i in range(1,n+1):\n",
        "\n",
        "    #Preference of Student i :\n",
        "\n",
        "    a = random.uniform(0,1)\n",
        "    school1 = 's1'\n",
        "    school2 = 's2'\n",
        "    if a<0.5:\n",
        "        school1='s2'\n",
        "        school2='s1'\n",
        "\n",
        "    group='A'\n",
        "    if i>m(n) :\n",
        "        group='B'\n",
        "\n",
        "    student_pref['i'+str(i)]=[group, [school1,school2]]\n",
        "\n",
        "    #Preference of the schools :\n",
        "\n",
        "    W = random.gauss(0,1) # W_i : latent quality of student i\n",
        "    W1 = W + random.gauss(0,1) # noisy version observed by school s1\n",
        "    W2 = W + random.gauss(0,1) # noisy version observed by school s2\n",
        "\n",
        "    s1_quality['i'+str(i)]=W1\n",
        "    s2_quality['i'+str(i)]=W2\n",
        "\n",
        "\n",
        "#We still have to build the schools' preference lists based on the observed quality\n",
        "\n",
        "def pref_list(quality):\n",
        "\n",
        "    \"\"\"\n",
        "    Returns the school’s preference list by ranking the students in decreasing order of\n",
        "    observed quality (which is contained in the dictionary \"quality\").\n",
        "\n",
        "    \"\"\"\n",
        "\n",
        "    l = []\n",
        "    quality_copy = quality.copy()\n",
        "\n",
        "    while quality_copy:  # Loop until all students are processed\n",
        "\n",
        "        maxi = float('-inf')\n",
        "        stu = None\n",
        "\n",
        "        # Finding the student with the maximum quality\n",
        "        for s in quality_copy.keys():\n",
        "            if quality_copy[s] > maxi:\n",
        "                maxi = quality_copy[s]\n",
        "                stu = s\n",
        "\n",
        "        l.append(stu)  # Adding the student with the highest quality\n",
        "        del quality_copy[stu]  # Removing the student from the copy of the dictionary\n",
        "\n",
        "    return l\n",
        "\n",
        "\n",
        "school_pref = {'s1' : pref_list(s1_quality), 's2' : pref_list(s2_quality) }\n",
        "\n",
        "modif = modify_school_preferences(school_pref, student_pref)\n",
        "\n",
        "matching = deferred_acceptance_quotas(modif, student_pref, cap, quotas)\n",
        "\n",
        "def check_matching(matching, students_pref):\n",
        "    proportions = count_proportion(students_pref)\n",
        "    for school, students in matching.items():\n",
        "        students_from_matching_pref = {}\n",
        "        for eleve in students:\n",
        "            if eleve in students_pref:\n",
        "                students_from_matching_pref[eleve] = students_pref[eleve]\n",
        "        school_proportion = count_proportion(students_from_matching_pref)\n",
        "        for group, prop in proportions.items():\n",
        "            school_group_prop = school_proportion.get(group, 0)\n",
        "            if not (0.8 * prop <= school_group_prop <= 1.2 * prop):\n",
        "                return False\n",
        "    return True\n",
        "\n",
        "print(check_matching(matching, student_pref), \"for instance 2\")"
      ]
    },
    {
      "cell_type": "markdown",
      "id": "0HZcT1fhU9fr",
      "metadata": {
        "id": "0HZcT1fhU9fr"
      },
      "source": [
        "The resultas are also coherent here. \n",
        "Still no results possible for instance 3 since we cannot seem to build it correctly.\n",
        "\n",
        "## 4. A fixed-point algorithm for arbitrary constraints\n",
        "\n",
        "In a recent paper, Kamada and Kojima proposed a new algorithm based on a fixed-point to find a matching with good properties under arbitrary constraints. With arbitrary constraints, finding a stable matching is impossible in general. Therefore, we will drop the property of non-wastefulness and look for matchings that are feasible, individually rational and fair. Kamada and Kojima showed that such matchings can be characterized as the solutions to a fixed point problem as follows.\n",
        "\n",
        "Consider the space of cutoff profiles P = {1, · · · , |I|, |I| + 1}S (i.e., the space of functions from S to {1, · · · , |I|, |I| + 1}), endowed with a partial order ≤ such that two profiles p, p′ ∈ P satisfy p≤p′ if and only if ps is weakly smaller than p′s for all s∈S. For each school s∈S,let i(s,l) be the student whose rank is the lth from the bottom according to the preference list of s (e.g., i(s,|I|) is the best student for s). Also consider a hypothetical student i∗ ∈/ I such that i∗ =i(s,|I|+1) for all s∈S and expand the domain of≻s for each s∈S so that i∗ ≻$s_i$ for all i ∈ I. Given a cutoff profile p ∈ P, we define the demand at school s as :\n",
        "\n",
        "$ D_s(p)$ = {$i ∈ I|i ⪰_s i^{(s,ps)} and s ≻_i ∅ ; i ⪰_{s′} i^{(s′,ps′)} ⇒ s ⪰_i s′$} \n",
        "\n",
        "In this definition, the first part $“i ⪰_s i^{(s,ps)} and s ≻_i ∅ ” $ says that student i is as good as the cutoff student $i^{(s,ps)}$ and finds s acceptable, while the second part \"$i ⪰_{s′} i^{(s′,ps′)} ⇒ s ⪰_i s′$” says that s is the most preferred school among the ones at which i passes the cutoff. \n",
        "The demand for s is a collection of students who meet those two criteria.\n",
        "We consider a mapping T : P → P , called the cutoff adjustment function, defined as follows:\n",
        "for all s ∈ S\n",
        "􏰀ps+1 ifDs(p)∈/Fs, Ts(p) = ps if Ds(p) ∈ Fs;\n",
        "where we set by convention (|I|+1)+1 = 1 to ensure that the range of T is P. That is, for each s and cutoff profile, this mapping raises the cutoff at s by one if the demand for s is infeasible, and leaves the cutoff unchanged if it is feasible.\n",
        "For each p ∈ P , let μp be the matching such that\n",
        "μps = Ds(p) for each s ∈ S.\n",
        "That is, μps simply matches all students who demand s given cutoff profile p. Then, Kamada and Kojima [2] show the following result:\n",
        "\n",
        "Theorem 1 : If a cutoff profile p ∈ P is a fixed point of the cutoff adjustment function T , then $μ_p$ is feasible, individually rational, and fair. Moreover, if μ is a feasible, individually rational, and fair matching, then there exists a cutoff profile p ∈ P with μ = $μ_p$ that is a fixed point of T .\n",
        "There exist sufficient conditions to guarantee the existence of a fixed-point (called “general upper bound”). Here, we admit that these conditions are satisfied for capacity constraints and for maximum quota constraints. They are not satisfied, however, for constraints corresponding to the 4/5-rule.\n"
      ]
    },
    {
      "cell_type": "markdown",
      "id": "c87L5KB9Xeur",
      "metadata": {
        "id": "c87L5KB9Xeur"
      },
      "source": [
        "#### Implementation of the algorithm \n",
        "\n",
        "We are going to implement the algorithm described with a feasibility function encoding arbitrary feasible sets."
      ]
    },
    {
      "cell_type": "code",
      "execution_count": 52,
      "id": "6kpNKY0WXo2Z",
      "metadata": {
        "id": "6kpNKY0WXo2Z"
      },
      "outputs": [],
      "source": [
        "from itertools import combinations\n",
        "\n",
        "def generate_feasibility_constraints(school_pref, capacities):\n",
        "    \"\"\"\n",
        "    Generates feasibility constraints for each school based on capacity.\n",
        "    For each school, feasible sets are all possible subsets of its preference list\n",
        "    with size less than or equal to the school's capacity.\n",
        "    \"\"\"\n",
        "    feasibility_constraints = {}\n",
        "    for school, pref in school_pref.items():\n",
        "        capacity = capacities[school]\n",
        "        feasible_sets = []\n",
        "        for size in range(0, capacity + 1):\n",
        "            feasible_sets.extend(list(combinations(pref, size)))\n",
        "        feasibility_constraints[school] = [list(subset) for subset in feasible_sets]\n",
        "    return feasibility_constraints\n",
        "\n",
        "def demand_set(student_pref, school_pref, cutoff_profile, school):\n",
        "    \"\"\"\n",
        "    Calculates the demand set for a school given the current cutoff profile.\n",
        "    \"\"\"\n",
        "    demand = []\n",
        "    for i in school_pref[school][:cutoff_profile[school]]:\n",
        "        # Determine the schools (only from student's preference list) for which i is above the cutoff.\n",
        "        eligible_schools = []\n",
        "        for s in student_pref[i]:\n",
        "            if i in school_pref[s][:cutoff_profile[s]]:\n",
        "                eligible_schools.append(s)\n",
        "        if eligible_schools:\n",
        "            # Pick the best school for i according to i's preferences.\n",
        "            best_school = min(eligible_schools, key=lambda x: student_pref[i].index(x))\n",
        "            if best_school == school:\n",
        "                demand.append(i)\n",
        "    return demand\n",
        "\n",
        "def cutoff_adjustment(student_pref, school_pref, feasibility_constraints):\n",
        "    \"\"\"\n",
        "    Iteratively adjusts the cutoff profiles until a fixed point is reached.\n",
        "\n",
        "    For each school, the cutoff starts at its capacity and increases until the\n",
        "    corresponding demand set is a feasible set.\n",
        "    \"\"\"\n",
        "    n = len(student_pref)\n",
        "    cutoff_profiles = {school: capacities[school] for school in school_pref.keys()}\n",
        "\n",
        "    changed = True\n",
        "    while changed:\n",
        "        changed = False\n",
        "        for school in school_pref.keys():\n",
        "            demand = demand_set(student_pref, school_pref, cutoff_profiles, school)\n",
        "            if demand not in feasibility_constraints[school]:\n",
        "                if cutoff_profiles[school] >= n:\n",
        "                    continue\n",
        "                cutoff_profiles[school] += 1\n",
        "                changed = True\n",
        "    return cutoff_profiles\n",
        "\n",
        "def find_matching(student_pref, school_pref, cutoff_profile):\n",
        "    \"\"\"\n",
        "    Finds the matching for each school based on the final cutoff profiles.\n",
        "    \"\"\"\n",
        "    matching = {}\n",
        "    for school in school_pref.keys():\n",
        "        matching[school] = demand_set(student_pref, school_pref, cutoff_profile, school)\n",
        "    return matching"
      ]
    },
    {
      "cell_type": "markdown",
      "id": "v3yglYczXpa3",
      "metadata": {
        "id": "v3yglYczXpa3"
      },
      "source": [
        "#### Tests with capacities constraints only\n",
        "\n",
        "Now we are going to test the algorithm on the Instances 1-3 from, with only capacity constraints, and compare to the outcome of the algorithm from Task 2."
      ]
    },
    {
      "cell_type": "markdown",
      "id": "6DDEXCv5hNV9",
      "metadata": {
        "id": "6DDEXCv5hNV9"
      },
      "source": [
        "##### Instance 1"
      ]
    },
    {
      "cell_type": "code",
      "execution_count": 53,
      "id": "j23FW2WrXwYg",
      "metadata": {
        "colab": {
          "base_uri": "https://localhost:8080/"
        },
        "id": "j23FW2WrXwYg",
        "outputId": "b5fa3fde-8b5a-4af5-f228-37850c2df503"
      },
      "outputs": [
        {
          "name": "stdout",
          "output_type": "stream",
          "text": [
            "Final Matching for instance 1: {'s1': ['i3'], 's2': ['i4']}\n"
          ]
        }
      ],
      "source": [
        "#Instance 1\n",
        "student_pref = {\n",
        "    'i1': ['s1', 's2'],\n",
        "    'i2': ['s2', 's1'],\n",
        "    'i3': ['s1'],\n",
        "    'i4': ['s2']\n",
        "}\n",
        "\n",
        "school_pref = {\n",
        "    's1': ['i4', 'i3', 'i2', 'i1'],\n",
        "    's2': ['i4', 'i3', 'i2', 'i1']\n",
        "}\n",
        "\n",
        "capacities = {'s1': 2, 's2': 2}\n",
        "\n",
        "feasibility_constraints = generate_feasibility_constraints(school_pref, capacities)\n",
        "final_cutoff_profiles = cutoff_adjustment(student_pref, school_pref, feasibility_constraints)\n",
        "final_matching = find_matching(student_pref, school_pref, final_cutoff_profiles)\n",
        "print(\"Final Matching for instance 1:\", final_matching)\n"
      ]
    },
    {
      "cell_type": "markdown",
      "id": "bZQ0craYhkEZ",
      "metadata": {
        "id": "bZQ0craYhkEZ"
      },
      "source": [
        "--> For school s1, with a cutoff of 2, its top two candidates are [i4, i3]. When we compute the demand set for s1, we examine each candidate:\n",
        "- For i4, although i4 appears in s1’s top two, i4’s own preference list is [s2] (i.e. i4 only finds s2 acceptable). So i4 is not “eligible” for s1.\n",
        "- For i3, i3’s preference list is [s1]. Since i3 is above the cutoff for s1 and s1 is the only school in i3’s list, i3 is included.\n",
        "\n",
        "Thus, the demand for s1 becomes [i3].\n",
        "\n",
        "--> For school s2, its top two candidates are [i4, i3]. Now, for each candidate:\n",
        "- For i4, i4’s only preference is s2 and i4 is in s2’s top two, so i4 is included.\n",
        "- For i3, although i3 appears in s2’s ranking, i3 is not on i3’s preference list (i3 only prefers s1), so i3 is not eligible for s2.\n",
        "\n",
        "Thus, the demand for s2 becomes [i4].\n",
        "\n",
        "\n",
        "--> We do not have the same outcome, because the non-wastefulness criteria isn't met in this algorithm."
      ]
    },
    {
      "cell_type": "markdown",
      "id": "Y-MW5aerhFLW",
      "metadata": {
        "id": "Y-MW5aerhFLW"
      },
      "source": [
        "##### Instances 2 and 3"
      ]
    },
    {
      "cell_type": "code",
      "execution_count": 54,
      "id": "A7IZXjL9hIUF",
      "metadata": {
        "colab": {
          "base_uri": "https://localhost:8080/"
        },
        "id": "A7IZXjL9hIUF",
        "outputId": "420ebde2-a96b-4c06-9d53-f0fac30186c8"
      },
      "outputs": [
        {
          "name": "stdout",
          "output_type": "stream",
          "text": [
            "Final Matching for instance 2 and 3: {'s1': ['i6'], 's2': ['i4', 'i8']}\n"
          ]
        }
      ],
      "source": [
        "#Instance 2 and 3 (because there are no quotas)\n",
        "import random\n",
        "n=10\n",
        "\n",
        "capacities = {'s1': int(n/4), 's2': int(n/4)}\n",
        "s1_quality = {}\n",
        "s2_quality = {}\n",
        "student_pref = {}\n",
        "\n",
        "for i in range(1, n+1):\n",
        "    # Determine the student's school preferences\n",
        "    a = random.uniform(0, 1)\n",
        "    school1 = 's1'\n",
        "    school2 = 's2'\n",
        "    if a < 0.5:\n",
        "        school1 = 's2'\n",
        "        school2 = 's1'\n",
        "    student_pref['i' + str(i)] = [school1, school2]\n",
        "\n",
        "    # Generate the student's latent quality and noisy observations\n",
        "    W = random.gauss(0, 1)  # latent quality of student i\n",
        "    W1 = W + random.gauss(0, 1)  # noisy version for school s1\n",
        "    W2 = W + random.gauss(0, 1)  # noisy version for school s2\n",
        "\n",
        "    s1_quality['i' + str(i)] = W1\n",
        "    s2_quality['i' + str(i)] = W2\n",
        "\n",
        "# Sort the student IDs for each school by their observed quality (highest first)\n",
        "pref_list1 = sorted(s1_quality, key=s1_quality.get, reverse=True)\n",
        "pref_list2 = sorted(s2_quality, key=s2_quality.get, reverse=True)\n",
        "\n",
        "school_pref = {'s1': pref_list1, 's2': pref_list2}\n",
        "\n",
        "\n",
        "feasibility_constraints = generate_feasibility_constraints(school_pref, capacities)\n",
        "final_cutoff_profiles = cutoff_adjustment(student_pref, school_pref, feasibility_constraints)\n",
        "final_matching = find_matching(student_pref, school_pref, final_cutoff_profiles)\n",
        "print(\"Final Matching for instance 2 and 3:\", final_matching)\n"
      ]
    },
    {
      "cell_type": "markdown",
      "id": "N4rIYmSSXw9T",
      "metadata": {
        "id": "N4rIYmSSXw9T"
      },
      "source": [
        "#### Test with capacities and quotas constraints\n",
        "\n",
        "We are going to test the algorithm on the Instances 1-3 with the maximum quota constraint (in addition to capacity constraints) and compare to the previous outcomes (with the previous algorithm)."
      ]
    },
    {
      "cell_type": "code",
      "execution_count": 55,
      "id": "k-bFuNTiX0pk",
      "metadata": {
        "id": "k-bFuNTiX0pk"
      },
      "outputs": [],
      "source": [
        "from itertools import combinations\n",
        "\n",
        "def generate_feasibility_constraints(school_pref, capacities, max_quotas, student_groups):\n",
        "    \"\"\"\n",
        "    Generates feasibility constraints for each school taking into account both the overall capacity and\n",
        "    the maximum quota per group.\n",
        "\n",
        "    --> quotas: dictionnary whose keys are schoold id and value is the group quota {'s1': {'A': 2, 'B': 2}, ...}\n",
        "    --> student_groups: dictionnary whose key is student id and value is its group {'i1': 'A', 'i2': 'B', ...}\n",
        "    \"\"\"\n",
        "    feasibility_constraints = {}\n",
        "    for school, pref in school_pref.items():\n",
        "        capacity = capacities[school]\n",
        "        feasible_sets = []\n",
        "        # Retrieve the maximum quotas for the school (if not provided, assume no group constraint)\n",
        "        school_quota = quotas.get(school, {})\n",
        "        # Generate all possible subsets up to overall capacity\n",
        "        for size in range(0, capacity + 1):\n",
        "            for subset in combinations(pref, size):\n",
        "                valid = True\n",
        "                # Check each group's quota in the subset.\n",
        "                for group, quota in school_quota.items():\n",
        "                    # Count the number of students in the subset belonging to this group.\n",
        "                    count = sum(1 for student in subset if student_groups.get(student) == group)\n",
        "                    if count > quota:\n",
        "                        valid = False\n",
        "                        break\n",
        "                if valid:\n",
        "                    feasible_sets.append(list(subset))\n",
        "        feasibility_constraints[school] = feasible_sets\n",
        "    return feasibility_constraints\n",
        "\n",
        "\n",
        "def demand_set(student_pref, school_pref, cutoff_profile, school):\n",
        "    \"\"\"\n",
        "    Calculates the demand set for a school given the current cutoff profile.\n",
        "    \"\"\"\n",
        "    demand = []\n",
        "    for i in school_pref[school][:cutoff_profile[school]]:\n",
        "        # Determine the schools (only from student's preference list) for which i is above the cutoff.\n",
        "        eligible_schools = []\n",
        "        for s in student_pref[i]:\n",
        "            if i in school_pref[s][:cutoff_profile[s]]:\n",
        "                eligible_schools.append(s)\n",
        "        if eligible_schools:\n",
        "            # Pick the best school for i according to i's preferences.\n",
        "            best_school = min(eligible_schools, key=lambda x: student_pref[i].index(x))\n",
        "            if best_school == school:\n",
        "                demand.append(i)\n",
        "    return demand\n",
        "\n",
        "def cutoff_adjustment(student_pref, school_pref, feasibility_constraints):\n",
        "    \"\"\"\n",
        "    Iteratively adjusts the cutoff profiles until a fixed point is reached.\n",
        "\n",
        "    For each school, the cutoff starts at its capacity and increases until the\n",
        "    corresponding demand set is a feasible set.\n",
        "    \"\"\"\n",
        "    n = len(student_pref)\n",
        "    cutoff_profiles = {school: capacities[school] for school in school_pref.keys()}\n",
        "\n",
        "    changed = True\n",
        "    while changed:\n",
        "        changed = False\n",
        "        for school in school_pref.keys():\n",
        "            demand = demand_set(student_pref, school_pref, cutoff_profiles, school)\n",
        "            if demand not in feasibility_constraints[school]:\n",
        "                if cutoff_profiles[school] >= n:\n",
        "                    continue\n",
        "                cutoff_profiles[school] += 1\n",
        "                changed = True\n",
        "    return cutoff_profiles\n",
        "\n",
        "def find_matching(student_pref, school_pref, cutoff_profile):\n",
        "    \"\"\"\n",
        "    Finds the matching for each school based on the final cutoff profiles.\n",
        "    \"\"\"\n",
        "    matching = {}\n",
        "    for school in school_pref.keys():\n",
        "        matching[school] = demand_set(student_pref, school_pref, cutoff_profile, school)\n",
        "    return matching\n",
        "\n"
      ]
    },
    {
      "cell_type": "markdown",
      "id": "MkDCD4O4X1O-",
      "metadata": {
        "id": "MkDCD4O4X1O-"
      },
      "source": [
        "#### Test with the 4/5 rule\n",
        "\n",
        "What happens if we try to run the algorithm with the 4/5-rule constraint ?"
      ]
    },
    {
      "cell_type": "code",
      "execution_count": 56,
      "id": "AuKpq55eX6ue",
      "metadata": {
        "colab": {
          "base_uri": "https://localhost:8080/"
        },
        "id": "AuKpq55eX6ue",
        "outputId": "4e36b0d3-008e-4881-f429-e2fe5c4747fb"
      },
      "outputs": [
        {
          "name": "stdout",
          "output_type": "stream",
          "text": [
            "Final Matching for instance 1 with quotas: {'s1': ['i3'], 's2': ['i4']}\n"
          ]
        }
      ],
      "source": [
        "student_pref = {\n",
        "    'i1': ['s1', 's2'],\n",
        "    'i2': ['s2', 's1'],\n",
        "    'i3': ['s1'],\n",
        "    'i4': ['s2']\n",
        "}\n",
        "\n",
        "student_groups = {'i1': 'A', 'i2': 'A', 'i3': 'A', 'i4': 'B'}\n",
        "\n",
        "school_pref = {\n",
        "    's1': ['i4', 'i3', 'i2', 'i1'],\n",
        "    's2': ['i4', 'i3', 'i2', 'i1']\n",
        "}\n",
        "\n",
        "capacities = {'s1': 2, 's2': 2}\n",
        "\n",
        "quotas = {'s1' : {'A':2,'B':2}, 's2':{'A':2,'B':2}}\n",
        "\n",
        "modif = modify_school_preferences(schools_pref, students_pref)\n",
        "\n",
        "feasibility_constraints = generate_feasibility_constraints(modif, capacities, quotas, student_groups)\n",
        "final_cutoff_profiles = cutoff_adjustment(student_pref, modif, feasibility_constraints)\n",
        "final_matching = find_matching(student_pref, modif, final_cutoff_profiles)\n",
        "print(\"Final Matching for instance 1 with quotas:\", final_matching)"
      ]
    },
    {
      "cell_type": "markdown",
      "id": "AbE7jNxeX73s",
      "metadata": {
        "id": "AbE7jNxeX73s"
      },
      "source": [
        "## 5. Matching without stability constraints\n",
        "\n",
        "In this last section, we disregard stability (or fairness) conditions for the matchings and instead look for “optimal” matchings in a centralized sense (i.e., assuming that a central authority can enforce the matching even in the presence of blocking pairs). Instead of a capacity constraint, we now assume that each school s has a budget constraint Ws, that is, the school can admit a subset $I′$ of students only if $ \\sum_{i∈I′}{w_i} ≤ W_s$."
      ]
    },
    {
      "cell_type": "markdown",
      "id": "i4opoJiuYCnO",
      "metadata": {
        "id": "i4opoJiuYCnO"
      },
      "source": [
        "### 5.1 The case of a single school  \n",
        "\n"
      ]
    },
    {
      "cell_type": "markdown",
      "id": "TCSnNkrPZDoj",
      "metadata": {
        "id": "TCSnNkrPZDoj"
      },
      "source": [
        "Let's propose an algorithm that maximizes the number of assigned students with a budget constraints and the 4/5-rule constraint."
      ]
    },
    {
      "cell_type": "code",
      "execution_count": 57,
      "id": "gWqxMRQDZIf1",
      "metadata": {
        "id": "gWqxMRQDZIf1"
      },
      "outputs": [],
      "source": [
        "def match_single_school(students, costs, budget, student_groups, fairness_constraint):\n",
        "    \"\"\"\n",
        "    Maximizes the number of students assigned to a single school while respecting budget and fairness constraint.\n",
        "    \"\"\"\n",
        "    selected_students = []\n",
        "    total_cost = 0\n",
        "\n",
        "    # Sort students by cost (cheapest first) to maximize assignments\n",
        "    sorted_students = sorted(students, key=lambda i: costs[i])\n",
        "\n",
        "    for student in sorted_students:\n",
        "        if total_cost + costs[student] <= budget:\n",
        "            selected_students.append(student)\n",
        "            total_cost += costs[student]\n",
        "\n",
        "    # Apply 4/5 fairness rule constraint if necessary\n",
        "    #if fairness_constraint:\n",
        "        #selected_students = enforce_fairness(selected_students, student_groups)\n",
        "\n",
        "    return selected_students"
      ]
    },
    {
      "cell_type": "markdown",
      "id": "McoN0-I1mx6H",
      "metadata": {
        "id": "McoN0-I1mx6H"
      },
      "source": [
        "For now, the code in the previous cell only satisfies the budget constraint.\n",
        "\n",
        "The idea here would be : having a \"enforce_fairness\" function which, given le current list of students selcted that satisfies the budget constraints but not necessarily the 4/5 rule, returns a list of selected students that satisfies the 2 constraints.\n",
        "\n",
        "Unfortunately, because of a lack of time, we did not implement this function."
      ]
    },
    {
      "cell_type": "markdown",
      "id": "86fGRPDJY9lI",
      "metadata": {
        "id": "86fGRPDJY9lI"
      },
      "source": [
        "#### Test\n",
        "\n",
        "Let's test the algorithm on the Instances 1-3 with the following modification: s1 and s2 are merged —i.e., they are the same school. The budget is $W_s$ = 11 for Instance 1 and $W_s$ = 3n for Instances 2-3.\n"
      ]
    },
    {
      "cell_type": "markdown",
      "id": "ik32SjKXl8w6",
      "metadata": {
        "id": "ik32SjKXl8w6"
      },
      "source": [
        "##### Instance 1"
      ]
    },
    {
      "cell_type": "code",
      "execution_count": 59,
      "id": "q0LqGAeAZO_Z",
      "metadata": {
        "colab": {
          "base_uri": "https://localhost:8080/"
        },
        "id": "q0LqGAeAZO_Z",
        "outputId": "8f003e6c-4f62-4d08-8739-cca71093416a"
      },
      "outputs": [
        {
          "name": "stdout",
          "output_type": "stream",
          "text": [
            "Task 12 Result: for the only school considered in this part, the students selected are  ['i1', 'i2', 'i3']\n"
          ]
        }
      ],
      "source": [
        "students = ['i1', 'i2', 'i3', 'i4']\n",
        "costs = {'i1': 1, 'i2': 1, 'i3': 1, 'i4': 10}\n",
        "budget = 11  # Combined budget after merging schools\n",
        "student_groups = {'i1': 'A', 'i2': 'A', 'i3': 'A', 'i4': 'B'}\n",
        "result = match_single_school(students, costs, budget, student_groups, fairness_constraint=True)\n",
        "print(\"Task 12 Result: for the only school considered in this part, the students selected are \", result)\n"
      ]
    },
    {
      "cell_type": "markdown",
      "id": "oyQUiJiHmJUs",
      "metadata": {
        "id": "oyQUiJiHmJUs"
      },
      "source": [
        "As we explained earlier, we can see that the budget constraint is respected but not the 4/5 rule.\n",
        "\n",
        "However, even with a code that would satisfy the 4/5 rule, in this instance it is impossible to satisfy it anyway."
      ]
    }
  ],
  "metadata": {
    "colab": {
      "provenance": []
    },
    "kernelspec": {
      "display_name": "anaconda-panel-2023.05-py310",
      "language": "python",
      "name": "conda-env-anaconda-panel-2023.05-py310-py"
    },
    "language_info": {
      "codemirror_mode": {
        "name": "ipython",
        "version": 3
      },
      "file_extension": ".py",
      "mimetype": "text/x-python",
      "name": "python",
      "nbconvert_exporter": "python",
      "pygments_lexer": "ipython3",
      "version": "3.11.5"
    }
  },
  "nbformat": 4,
  "nbformat_minor": 5
}
